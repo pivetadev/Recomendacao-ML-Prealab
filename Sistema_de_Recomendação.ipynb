{
  "nbformat": 4,
  "nbformat_minor": 0,
  "metadata": {
    "colab": {
      "provenance": []
    },
    "kernelspec": {
      "name": "python3",
      "display_name": "Python 3"
    },
    "language_info": {
      "name": "python"
    }
  },
  "cells": [
    {
      "cell_type": "code",
      "execution_count": null,
      "metadata": {
        "id": "JYaCd-yZMM0d"
      },
      "outputs": [],
      "source": [
        "import pandas as pd\n",
        "\n",
        "def carregar_dados_ideb(caminho):\n",
        "    \"\"\"Carrega dados do IDEB\"\"\"\n",
        "    return pd.read_csv(caminho, encoding='ISO-8859-1')"
      ]
    },
    {
      "cell_type": "code",
      "source": [
        "# Visualizar estrutura\n",
        "print(df.head())\n",
        "print(\"\\nColunas disponíveis:\", df.columns.tolist())"
      ],
      "metadata": {
        "colab": {
          "base_uri": "https://localhost:8080/",
          "height": 178
        },
        "id": "3tkY-l8rcISh",
        "outputId": "47fee3e5-1fc9-4262-e5c3-5a7b4237204c"
      },
      "execution_count": null,
      "outputs": [
        {
          "output_type": "error",
          "ename": "NameError",
          "evalue": "name 'df' is not defined",
          "traceback": [
            "\u001b[0;31m---------------------------------------------------------------------------\u001b[0m",
            "\u001b[0;31mNameError\u001b[0m                                 Traceback (most recent call last)",
            "\u001b[0;32m<ipython-input-5-825948dbb2b5>\u001b[0m in \u001b[0;36m<cell line: 0>\u001b[0;34m()\u001b[0m\n\u001b[1;32m      1\u001b[0m \u001b[0;31m# Visualizar estrutura\u001b[0m\u001b[0;34m\u001b[0m\u001b[0;34m\u001b[0m\u001b[0m\n\u001b[0;32m----> 2\u001b[0;31m \u001b[0mprint\u001b[0m\u001b[0;34m(\u001b[0m\u001b[0mdf\u001b[0m\u001b[0;34m.\u001b[0m\u001b[0mhead\u001b[0m\u001b[0;34m(\u001b[0m\u001b[0;34m)\u001b[0m\u001b[0;34m)\u001b[0m\u001b[0;34m\u001b[0m\u001b[0;34m\u001b[0m\u001b[0m\n\u001b[0m\u001b[1;32m      3\u001b[0m \u001b[0mprint\u001b[0m\u001b[0;34m(\u001b[0m\u001b[0;34m\"\\nColunas disponíveis:\"\u001b[0m\u001b[0;34m,\u001b[0m \u001b[0mdf\u001b[0m\u001b[0;34m.\u001b[0m\u001b[0mcolumns\u001b[0m\u001b[0;34m.\u001b[0m\u001b[0mtolist\u001b[0m\u001b[0;34m(\u001b[0m\u001b[0;34m)\u001b[0m\u001b[0;34m)\u001b[0m\u001b[0;34m\u001b[0m\u001b[0;34m\u001b[0m\u001b[0m\n",
            "\u001b[0;31mNameError\u001b[0m: name 'df' is not defined"
          ]
        }
      ]
    },
    {
      "cell_type": "code",
      "source": [
        "df = pd.read_csv(\"/content/br_inep_ideb_brasil.csv\")"
      ],
      "metadata": {
        "id": "vvc777Pdob17"
      },
      "execution_count": null,
      "outputs": []
    },
    {
      "cell_type": "code",
      "source": [
        "df.head()"
      ],
      "metadata": {
        "colab": {
          "base_uri": "https://localhost:8080/",
          "height": 226
        },
        "id": "kwzrOI4Zo0jo",
        "outputId": "3e837c82-4d64-4902-ad46-38c26846cbb2"
      },
      "execution_count": null,
      "outputs": [
        {
          "output_type": "execute_result",
          "data": {
            "text/plain": [
              "    ano   rede ensino anos_escolares  taxa_aprovacao  indicador_rendimento  \\\n",
              "0  2009  total  medio    todos (1-4)            75.9              0.795302   \n",
              "1  2013  total  medio    todos (1-4)            80.1              0.823323   \n",
              "2  2021  total  medio    todos (1-4)            90.8              0.900923   \n",
              "3  2007  total  medio    todos (1-4)            74.1              0.778403   \n",
              "4  2017  total  medio    todos (1-4)            83.1              0.838888   \n",
              "\n",
              "   nota_saeb_matematica  nota_saeb_lingua_portuguesa  \\\n",
              "0                274.72                       268.82   \n",
              "1                270.14                       264.05   \n",
              "2                271.00                       275.97   \n",
              "3                272.89                       261.39   \n",
              "4                270.63                       268.51   \n",
              "\n",
              "   nota_saeb_media_padronizada  ideb  projecao  \n",
              "0                     4.572342   3.6       3.5  \n",
              "1                     4.436750   3.7       3.9  \n",
              "2                     4.626981   4.2       NaN  \n",
              "3                     4.435226   3.5       3.4  \n",
              "4                     4.510258   3.8       4.7  "
            ],
            "text/html": [
              "\n",
              "  <div id=\"df-e8879d9b-4841-44ad-88ad-4731dc8341c3\" class=\"colab-df-container\">\n",
              "    <div>\n",
              "<style scoped>\n",
              "    .dataframe tbody tr th:only-of-type {\n",
              "        vertical-align: middle;\n",
              "    }\n",
              "\n",
              "    .dataframe tbody tr th {\n",
              "        vertical-align: top;\n",
              "    }\n",
              "\n",
              "    .dataframe thead th {\n",
              "        text-align: right;\n",
              "    }\n",
              "</style>\n",
              "<table border=\"1\" class=\"dataframe\">\n",
              "  <thead>\n",
              "    <tr style=\"text-align: right;\">\n",
              "      <th></th>\n",
              "      <th>ano</th>\n",
              "      <th>rede</th>\n",
              "      <th>ensino</th>\n",
              "      <th>anos_escolares</th>\n",
              "      <th>taxa_aprovacao</th>\n",
              "      <th>indicador_rendimento</th>\n",
              "      <th>nota_saeb_matematica</th>\n",
              "      <th>nota_saeb_lingua_portuguesa</th>\n",
              "      <th>nota_saeb_media_padronizada</th>\n",
              "      <th>ideb</th>\n",
              "      <th>projecao</th>\n",
              "    </tr>\n",
              "  </thead>\n",
              "  <tbody>\n",
              "    <tr>\n",
              "      <th>0</th>\n",
              "      <td>2009</td>\n",
              "      <td>total</td>\n",
              "      <td>medio</td>\n",
              "      <td>todos (1-4)</td>\n",
              "      <td>75.9</td>\n",
              "      <td>0.795302</td>\n",
              "      <td>274.72</td>\n",
              "      <td>268.82</td>\n",
              "      <td>4.572342</td>\n",
              "      <td>3.6</td>\n",
              "      <td>3.5</td>\n",
              "    </tr>\n",
              "    <tr>\n",
              "      <th>1</th>\n",
              "      <td>2013</td>\n",
              "      <td>total</td>\n",
              "      <td>medio</td>\n",
              "      <td>todos (1-4)</td>\n",
              "      <td>80.1</td>\n",
              "      <td>0.823323</td>\n",
              "      <td>270.14</td>\n",
              "      <td>264.05</td>\n",
              "      <td>4.436750</td>\n",
              "      <td>3.7</td>\n",
              "      <td>3.9</td>\n",
              "    </tr>\n",
              "    <tr>\n",
              "      <th>2</th>\n",
              "      <td>2021</td>\n",
              "      <td>total</td>\n",
              "      <td>medio</td>\n",
              "      <td>todos (1-4)</td>\n",
              "      <td>90.8</td>\n",
              "      <td>0.900923</td>\n",
              "      <td>271.00</td>\n",
              "      <td>275.97</td>\n",
              "      <td>4.626981</td>\n",
              "      <td>4.2</td>\n",
              "      <td>NaN</td>\n",
              "    </tr>\n",
              "    <tr>\n",
              "      <th>3</th>\n",
              "      <td>2007</td>\n",
              "      <td>total</td>\n",
              "      <td>medio</td>\n",
              "      <td>todos (1-4)</td>\n",
              "      <td>74.1</td>\n",
              "      <td>0.778403</td>\n",
              "      <td>272.89</td>\n",
              "      <td>261.39</td>\n",
              "      <td>4.435226</td>\n",
              "      <td>3.5</td>\n",
              "      <td>3.4</td>\n",
              "    </tr>\n",
              "    <tr>\n",
              "      <th>4</th>\n",
              "      <td>2017</td>\n",
              "      <td>total</td>\n",
              "      <td>medio</td>\n",
              "      <td>todos (1-4)</td>\n",
              "      <td>83.1</td>\n",
              "      <td>0.838888</td>\n",
              "      <td>270.63</td>\n",
              "      <td>268.51</td>\n",
              "      <td>4.510258</td>\n",
              "      <td>3.8</td>\n",
              "      <td>4.7</td>\n",
              "    </tr>\n",
              "  </tbody>\n",
              "</table>\n",
              "</div>\n",
              "    <div class=\"colab-df-buttons\">\n",
              "\n",
              "  <div class=\"colab-df-container\">\n",
              "    <button class=\"colab-df-convert\" onclick=\"convertToInteractive('df-e8879d9b-4841-44ad-88ad-4731dc8341c3')\"\n",
              "            title=\"Convert this dataframe to an interactive table.\"\n",
              "            style=\"display:none;\">\n",
              "\n",
              "  <svg xmlns=\"http://www.w3.org/2000/svg\" height=\"24px\" viewBox=\"0 -960 960 960\">\n",
              "    <path d=\"M120-120v-720h720v720H120Zm60-500h600v-160H180v160Zm220 220h160v-160H400v160Zm0 220h160v-160H400v160ZM180-400h160v-160H180v160Zm440 0h160v-160H620v160ZM180-180h160v-160H180v160Zm440 0h160v-160H620v160Z\"/>\n",
              "  </svg>\n",
              "    </button>\n",
              "\n",
              "  <style>\n",
              "    .colab-df-container {\n",
              "      display:flex;\n",
              "      gap: 12px;\n",
              "    }\n",
              "\n",
              "    .colab-df-convert {\n",
              "      background-color: #E8F0FE;\n",
              "      border: none;\n",
              "      border-radius: 50%;\n",
              "      cursor: pointer;\n",
              "      display: none;\n",
              "      fill: #1967D2;\n",
              "      height: 32px;\n",
              "      padding: 0 0 0 0;\n",
              "      width: 32px;\n",
              "    }\n",
              "\n",
              "    .colab-df-convert:hover {\n",
              "      background-color: #E2EBFA;\n",
              "      box-shadow: 0px 1px 2px rgba(60, 64, 67, 0.3), 0px 1px 3px 1px rgba(60, 64, 67, 0.15);\n",
              "      fill: #174EA6;\n",
              "    }\n",
              "\n",
              "    .colab-df-buttons div {\n",
              "      margin-bottom: 4px;\n",
              "    }\n",
              "\n",
              "    [theme=dark] .colab-df-convert {\n",
              "      background-color: #3B4455;\n",
              "      fill: #D2E3FC;\n",
              "    }\n",
              "\n",
              "    [theme=dark] .colab-df-convert:hover {\n",
              "      background-color: #434B5C;\n",
              "      box-shadow: 0px 1px 3px 1px rgba(0, 0, 0, 0.15);\n",
              "      filter: drop-shadow(0px 1px 2px rgba(0, 0, 0, 0.3));\n",
              "      fill: #FFFFFF;\n",
              "    }\n",
              "  </style>\n",
              "\n",
              "    <script>\n",
              "      const buttonEl =\n",
              "        document.querySelector('#df-e8879d9b-4841-44ad-88ad-4731dc8341c3 button.colab-df-convert');\n",
              "      buttonEl.style.display =\n",
              "        google.colab.kernel.accessAllowed ? 'block' : 'none';\n",
              "\n",
              "      async function convertToInteractive(key) {\n",
              "        const element = document.querySelector('#df-e8879d9b-4841-44ad-88ad-4731dc8341c3');\n",
              "        const dataTable =\n",
              "          await google.colab.kernel.invokeFunction('convertToInteractive',\n",
              "                                                    [key], {});\n",
              "        if (!dataTable) return;\n",
              "\n",
              "        const docLinkHtml = 'Like what you see? Visit the ' +\n",
              "          '<a target=\"_blank\" href=https://colab.research.google.com/notebooks/data_table.ipynb>data table notebook</a>'\n",
              "          + ' to learn more about interactive tables.';\n",
              "        element.innerHTML = '';\n",
              "        dataTable['output_type'] = 'display_data';\n",
              "        await google.colab.output.renderOutput(dataTable, element);\n",
              "        const docLink = document.createElement('div');\n",
              "        docLink.innerHTML = docLinkHtml;\n",
              "        element.appendChild(docLink);\n",
              "      }\n",
              "    </script>\n",
              "  </div>\n",
              "\n",
              "\n",
              "    <div id=\"df-824f9f6c-24e1-4a0e-9a58-f8eb760bf960\">\n",
              "      <button class=\"colab-df-quickchart\" onclick=\"quickchart('df-824f9f6c-24e1-4a0e-9a58-f8eb760bf960')\"\n",
              "                title=\"Suggest charts\"\n",
              "                style=\"display:none;\">\n",
              "\n",
              "<svg xmlns=\"http://www.w3.org/2000/svg\" height=\"24px\"viewBox=\"0 0 24 24\"\n",
              "     width=\"24px\">\n",
              "    <g>\n",
              "        <path d=\"M19 3H5c-1.1 0-2 .9-2 2v14c0 1.1.9 2 2 2h14c1.1 0 2-.9 2-2V5c0-1.1-.9-2-2-2zM9 17H7v-7h2v7zm4 0h-2V7h2v10zm4 0h-2v-4h2v4z\"/>\n",
              "    </g>\n",
              "</svg>\n",
              "      </button>\n",
              "\n",
              "<style>\n",
              "  .colab-df-quickchart {\n",
              "      --bg-color: #E8F0FE;\n",
              "      --fill-color: #1967D2;\n",
              "      --hover-bg-color: #E2EBFA;\n",
              "      --hover-fill-color: #174EA6;\n",
              "      --disabled-fill-color: #AAA;\n",
              "      --disabled-bg-color: #DDD;\n",
              "  }\n",
              "\n",
              "  [theme=dark] .colab-df-quickchart {\n",
              "      --bg-color: #3B4455;\n",
              "      --fill-color: #D2E3FC;\n",
              "      --hover-bg-color: #434B5C;\n",
              "      --hover-fill-color: #FFFFFF;\n",
              "      --disabled-bg-color: #3B4455;\n",
              "      --disabled-fill-color: #666;\n",
              "  }\n",
              "\n",
              "  .colab-df-quickchart {\n",
              "    background-color: var(--bg-color);\n",
              "    border: none;\n",
              "    border-radius: 50%;\n",
              "    cursor: pointer;\n",
              "    display: none;\n",
              "    fill: var(--fill-color);\n",
              "    height: 32px;\n",
              "    padding: 0;\n",
              "    width: 32px;\n",
              "  }\n",
              "\n",
              "  .colab-df-quickchart:hover {\n",
              "    background-color: var(--hover-bg-color);\n",
              "    box-shadow: 0 1px 2px rgba(60, 64, 67, 0.3), 0 1px 3px 1px rgba(60, 64, 67, 0.15);\n",
              "    fill: var(--button-hover-fill-color);\n",
              "  }\n",
              "\n",
              "  .colab-df-quickchart-complete:disabled,\n",
              "  .colab-df-quickchart-complete:disabled:hover {\n",
              "    background-color: var(--disabled-bg-color);\n",
              "    fill: var(--disabled-fill-color);\n",
              "    box-shadow: none;\n",
              "  }\n",
              "\n",
              "  .colab-df-spinner {\n",
              "    border: 2px solid var(--fill-color);\n",
              "    border-color: transparent;\n",
              "    border-bottom-color: var(--fill-color);\n",
              "    animation:\n",
              "      spin 1s steps(1) infinite;\n",
              "  }\n",
              "\n",
              "  @keyframes spin {\n",
              "    0% {\n",
              "      border-color: transparent;\n",
              "      border-bottom-color: var(--fill-color);\n",
              "      border-left-color: var(--fill-color);\n",
              "    }\n",
              "    20% {\n",
              "      border-color: transparent;\n",
              "      border-left-color: var(--fill-color);\n",
              "      border-top-color: var(--fill-color);\n",
              "    }\n",
              "    30% {\n",
              "      border-color: transparent;\n",
              "      border-left-color: var(--fill-color);\n",
              "      border-top-color: var(--fill-color);\n",
              "      border-right-color: var(--fill-color);\n",
              "    }\n",
              "    40% {\n",
              "      border-color: transparent;\n",
              "      border-right-color: var(--fill-color);\n",
              "      border-top-color: var(--fill-color);\n",
              "    }\n",
              "    60% {\n",
              "      border-color: transparent;\n",
              "      border-right-color: var(--fill-color);\n",
              "    }\n",
              "    80% {\n",
              "      border-color: transparent;\n",
              "      border-right-color: var(--fill-color);\n",
              "      border-bottom-color: var(--fill-color);\n",
              "    }\n",
              "    90% {\n",
              "      border-color: transparent;\n",
              "      border-bottom-color: var(--fill-color);\n",
              "    }\n",
              "  }\n",
              "</style>\n",
              "\n",
              "      <script>\n",
              "        async function quickchart(key) {\n",
              "          const quickchartButtonEl =\n",
              "            document.querySelector('#' + key + ' button');\n",
              "          quickchartButtonEl.disabled = true;  // To prevent multiple clicks.\n",
              "          quickchartButtonEl.classList.add('colab-df-spinner');\n",
              "          try {\n",
              "            const charts = await google.colab.kernel.invokeFunction(\n",
              "                'suggestCharts', [key], {});\n",
              "          } catch (error) {\n",
              "            console.error('Error during call to suggestCharts:', error);\n",
              "          }\n",
              "          quickchartButtonEl.classList.remove('colab-df-spinner');\n",
              "          quickchartButtonEl.classList.add('colab-df-quickchart-complete');\n",
              "        }\n",
              "        (() => {\n",
              "          let quickchartButtonEl =\n",
              "            document.querySelector('#df-824f9f6c-24e1-4a0e-9a58-f8eb760bf960 button');\n",
              "          quickchartButtonEl.style.display =\n",
              "            google.colab.kernel.accessAllowed ? 'block' : 'none';\n",
              "        })();\n",
              "      </script>\n",
              "    </div>\n",
              "\n",
              "    </div>\n",
              "  </div>\n"
            ],
            "application/vnd.google.colaboratory.intrinsic+json": {
              "type": "dataframe",
              "variable_name": "df",
              "summary": "{\n  \"name\": \"df\",\n  \"rows\": 126,\n  \"fields\": [\n    {\n      \"column\": \"ano\",\n      \"properties\": {\n        \"dtype\": \"number\",\n        \"std\": 5,\n        \"min\": 2005,\n        \"max\": 2021,\n        \"num_unique_values\": 9,\n        \"samples\": [\n          2019,\n          2013,\n          2011\n        ],\n        \"semantic_type\": \"\",\n        \"description\": \"\"\n      }\n    },\n    {\n      \"column\": \"rede\",\n      \"properties\": {\n        \"dtype\": \"category\",\n        \"num_unique_values\": 5,\n        \"samples\": [\n          \"privada\",\n          \"municipal\",\n          \"publica\"\n        ],\n        \"semantic_type\": \"\",\n        \"description\": \"\"\n      }\n    },\n    {\n      \"column\": \"ensino\",\n      \"properties\": {\n        \"dtype\": \"category\",\n        \"num_unique_values\": 2,\n        \"samples\": [\n          \"fundamental\",\n          \"medio\"\n        ],\n        \"semantic_type\": \"\",\n        \"description\": \"\"\n      }\n    },\n    {\n      \"column\": \"anos_escolares\",\n      \"properties\": {\n        \"dtype\": \"category\",\n        \"num_unique_values\": 3,\n        \"samples\": [\n          \"todos (1-4)\",\n          \"finais (6-9)\"\n        ],\n        \"semantic_type\": \"\",\n        \"description\": \"\"\n      }\n    },\n    {\n      \"column\": \"taxa_aprovacao\",\n      \"properties\": {\n        \"dtype\": \"number\",\n        \"std\": 7.977282387236538,\n        \"min\": 70.5,\n        \"max\": 99.1,\n        \"num_unique_values\": 104,\n        \"samples\": [\n          93.8,\n          94.3\n        ],\n        \"semantic_type\": \"\",\n        \"description\": \"\"\n      }\n    },\n    {\n      \"column\": \"indicador_rendimento\",\n      \"properties\": {\n        \"dtype\": \"number\",\n        \"std\": 0.07133235371173106,\n        \"min\": 0.74056429,\n        \"max\": 0.9909987879,\n        \"num_unique_values\": 126,\n        \"samples\": [\n          0.87621081,\n          0.88815516\n        ],\n        \"semantic_type\": \"\",\n        \"description\": \"\"\n      }\n    },\n    {\n      \"column\": \"nota_saeb_matematica\",\n      \"properties\": {\n        \"dtype\": \"number\",\n        \"std\": 35.37052681532536,\n        \"min\": 174.86,\n        \"max\": 334.72,\n        \"num_unique_values\": 126,\n        \"samples\": [\n          199.52,\n          204.3\n        ],\n        \"semantic_type\": \"\",\n        \"description\": \"\"\n      }\n    },\n    {\n      \"column\": \"nota_saeb_lingua_portuguesa\",\n      \"properties\": {\n        \"dtype\": \"number\",\n        \"std\": 37.076581325340705,\n        \"min\": 165.07,\n        \"max\": 322.1,\n        \"num_unique_values\": 126,\n        \"samples\": [\n          179.58,\n          184.28\n        ],\n        \"semantic_type\": \"\",\n        \"description\": \"\"\n      }\n    },\n    {\n      \"column\": \"nota_saeb_media_padronizada\",\n      \"properties\": {\n        \"dtype\": \"number\",\n        \"std\": 0.8048001021358014,\n        \"min\": 4.0645995,\n        \"max\": 7.1842332,\n        \"num_unique_values\": 126,\n        \"samples\": [\n          5.0414095,\n          5.2184196\n        ],\n        \"semantic_type\": \"\",\n        \"description\": \"\"\n      }\n    },\n    {\n      \"column\": \"ideb\",\n      \"properties\": {\n        \"dtype\": \"number\",\n        \"std\": 1.0694431127594266,\n        \"min\": 3.0,\n        \"max\": 7.1,\n        \"num_unique_values\": 39,\n        \"samples\": [\n          3.2,\n          3.3\n        ],\n        \"semantic_type\": \"\",\n        \"description\": \"\"\n      }\n    },\n    {\n      \"column\": \"projecao\",\n      \"properties\": {\n        \"dtype\": \"number\",\n        \"std\": 1.1340214410034697,\n        \"min\": 3.1,\n        \"max\": 7.4,\n        \"num_unique_values\": 40,\n        \"samples\": [\n          5.8,\n          5.6\n        ],\n        \"semantic_type\": \"\",\n        \"description\": \"\"\n      }\n    }\n  ]\n}"
            }
          },
          "metadata": {},
          "execution_count": 7
        }
      ]
    },
    {
      "cell_type": "code",
      "source": [
        "print(\"\\nColunas disponíveis:\", df.columns.tolist())"
      ],
      "metadata": {
        "colab": {
          "base_uri": "https://localhost:8080/"
        },
        "id": "s81REQATpwsj",
        "outputId": "1e0da661-1302-49f3-83a7-9456c3b6e4d0"
      },
      "execution_count": null,
      "outputs": [
        {
          "output_type": "stream",
          "name": "stdout",
          "text": [
            "\n",
            "Colunas disponíveis: ['ano', 'rede', 'ensino', 'anos_escolares', 'taxa_aprovacao', 'indicador_rendimento', 'nota_saeb_matematica', 'nota_saeb_lingua_portuguesa', 'nota_saeb_media_padronizada', 'ideb', 'projecao']\n"
          ]
        }
      ]
    },
    {
      "cell_type": "markdown",
      "source": [
        "#Pré-processamento"
      ],
      "metadata": {
        "id": "ebqfZ-bRahEM"
      }
    },
    {
      "cell_type": "code",
      "source": [
        "from sklearn.preprocessing import StandardScaler\n",
        "\n",
        "def preprocessar_dados(df):\n",
        "    \"\"\"Filtra e normaliza os dados relevantes\"\"\"\n",
        "\n",
        "    # Filtro: último ano disponível e ensino médio apenas\n",
        "    df = df[(df['ano'] == df['ano'].max()) & (df['ensino'] == 'medio')].copy()\n",
        "\n",
        "    # Mapeia tipos de rede\n",
        "    redes_dict = {'municipal': 0, 'estadual': 1, 'privada': 2, 'total': 3}\n",
        "    df['rede_num'] = df['rede'].map(redes_dict)\n",
        "\n",
        "    # Remove linhas com dados faltantes\n",
        "    features = ['rede_num', 'taxa_aprovacao',\n",
        "                'nota_saeb_matematica', 'nota_saeb_lingua_portuguesa']\n",
        "    df = df.dropna(subset=features + ['ideb'])\n",
        "\n",
        "    # Normalização\n",
        "    scaler = StandardScaler()\n",
        "    df_norm = pd.DataFrame(\n",
        "        scaler.fit_transform(df[features]),\n",
        "        columns=[f\"{col}_norm\" for col in features]\n",
        "    )\n",
        "\n",
        "    return pd.concat([df.reset_index(drop=True), df_norm], axis=1)"
      ],
      "metadata": {
        "id": "Gv25WsSRaeB_"
      },
      "execution_count": null,
      "outputs": []
    },
    {
      "cell_type": "markdown",
      "source": [
        "#Modelagem"
      ],
      "metadata": {
        "id": "fAwrYxj3alMa"
      }
    },
    {
      "cell_type": "code",
      "source": [
        "from sklearn.neighbors import NearestNeighbors\n",
        "\n",
        "def treinar_modelo(df):\n",
        "    \"\"\"Treina o modelo de vizinhos mais próximos\"\"\"\n",
        "    features_norm = ['rede_num_norm', 'taxa_aprovacao_norm',\n",
        "                     'nota_saeb_matematica_norm', 'nota_saeb_lingua_portuguesa_norm']\n",
        "\n",
        "    X = df[features_norm].values\n",
        "    model = NearestNeighbors(n_neighbors=3, metric='cosine')\n",
        "    model.fit(X)\n",
        "    return model"
      ],
      "metadata": {
        "id": "heoCIUSValx3"
      },
      "execution_count": null,
      "outputs": []
    },
    {
      "cell_type": "markdown",
      "source": [
        "#Recomendação"
      ],
      "metadata": {
        "id": "1dA40_5eaqiG"
      }
    },
    {
      "cell_type": "code",
      "source": [
        "import numpy as np\n",
        "\n",
        "def recomendar_similares(model, df, rede_nome, n=3):\n",
        "    \"\"\"Recomenda escolas similares com base na rede\"\"\"\n",
        "    redes_dict = {'municipal': 0, 'estadual': 1, 'privada': 2, 'total': 3}\n",
        "    rede_num = redes_dict.get(rede_nome)\n",
        "\n",
        "    if rede_num is None:\n",
        "        print(\"Rede inválida.\")\n",
        "        return pd.DataFrame()\n",
        "\n",
        "    target_df = df[df['rede_num'] == rede_num].copy()\n",
        "    if target_df.empty:\n",
        "        print(\"Nenhuma escola encontrada para essa rede.\")\n",
        "        return pd.DataFrame()\n",
        "\n",
        "    features_norm = ['rede_num_norm', 'taxa_aprovacao_norm',\n",
        "                     'nota_saeb_matematica_norm', 'nota_saeb_lingua_portuguesa_norm']\n",
        "\n",
        "    distances, indices = model.kneighbors(\n",
        "        target_df[features_norm],\n",
        "        n_neighbors=min(n, len(target_df))\n",
        "    )\n",
        "\n",
        "    recomendacoes = target_df.iloc[indices[0]][['rede', 'ideb', 'taxa_aprovacao',\n",
        "                                                 'nota_saeb_matematica', 'nota_saeb_lingua_portuguesa']]\n",
        "    recomendacoes['similaridade'] = 1 / (1 + distances[0])\n",
        "\n",
        "    return recomendacoes.sort_values('similaridade', ascending=False)"
      ],
      "metadata": {
        "id": "OJzQ1PsDaprq"
      },
      "execution_count": null,
      "outputs": []
    },
    {
      "cell_type": "code",
      "source": [
        "def recomendar_similares(df, modelo, rede_escolhida, top_n=5):\n",
        "    filtro = df[df['rede'] == rede_escolhida]\n",
        "\n",
        "    if filtro.empty:\n",
        "        print(f\"Nenhum dado encontrado para a rede: {rede_escolhida}\")\n",
        "        return\n",
        "\n",
        "    idx = filtro.index[0]\n",
        "    similares = modelo[idx]\n",
        "\n",
        "    indices_recomendados = similares.argsort()[::-1][1:top_n+1]  # ignora o próprio\n",
        "    recomendados = df.iloc[indices_recomendados]\n",
        "\n",
        "    print(recomendados[['ano', 'rede', 'ensino', 'ideb']])"
      ],
      "metadata": {
        "id": "C6EPODQxcm1t"
      },
      "execution_count": null,
      "outputs": []
    },
    {
      "cell_type": "code",
      "source": [
        "print(df['rede'].unique())"
      ],
      "metadata": {
        "colab": {
          "base_uri": "https://localhost:8080/"
        },
        "id": "pb3kTbrucr50",
        "outputId": "69e2cf85-534b-4df4-ea8d-ac2b97b4cf54"
      },
      "execution_count": null,
      "outputs": [
        {
          "output_type": "stream",
          "name": "stdout",
          "text": [
            "['total' 'privada' 'publica' 'estadual' 'municipal']\n"
          ]
        }
      ]
    },
    {
      "cell_type": "markdown",
      "source": [
        "#Execução principal"
      ],
      "metadata": {
        "id": "DttU-aQHawD0"
      }
    },
    {
      "cell_type": "code",
      "source": [
        "from sklearn.neighbors import NearestNeighbors\n",
        "\n",
        "def treinar_modelo(df):\n",
        "    colunas_numericas = df.select_dtypes(include=[np.number])\n",
        "    modelo = NearestNeighbors(metric='cosine')\n",
        "    modelo.fit(colunas_numericas)\n",
        "    return modelo"
      ],
      "metadata": {
        "id": "9-hxfp0jdSGk"
      },
      "execution_count": null,
      "outputs": []
    },
    {
      "cell_type": "code",
      "source": [
        "def recomendar_similares(modelo, df, rede_escolhida, top_n=5):\n",
        "    filtro = df[df['rede'] == rede_escolhida]\n",
        "\n",
        "    if filtro.empty:\n",
        "        print(f\"Nenhum dado encontrado para a rede: {rede_escolhida}\")\n",
        "        return pd.DataFrame()\n",
        "\n",
        "    idx = filtro.index[0]  # pega a primeira ocorrência\n",
        "    try:\n",
        "        distancias, indices = modelo.kneighbors([df.iloc[idx]], n_neighbors=top_n + 1)\n",
        "        recomendados = df.iloc[indices[0][1:]]  # ignora o próprio ponto (índice 0)\n",
        "        return recomendados[['ano', 'rede', 'ensino', 'ideb']]\n",
        "    except Exception as e:\n",
        "        print(f\"Erro ao gerar recomendação: {e}\")\n",
        "        return pd.DataFrame()"
      ],
      "metadata": {
        "id": "ZXTy_nJBayIj"
      },
      "execution_count": null,
      "outputs": []
    },
    {
      "cell_type": "code",
      "source": [
        "def preprocessar_dados(df):\n",
        "    df = df.copy()\n",
        "\n",
        "    # Converte colunas para o formato correto, se necessário\n",
        "    df['ano'] = df['ano'].astype(int)\n",
        "\n",
        "    # Filtra apenas o ensino médio\n",
        "    df = df[df['ensino'] == 'medio']\n",
        "\n",
        "    # Reset index para segurança\n",
        "    df = df.reset_index(drop=True)\n",
        "\n",
        "    # Trata valores ausentes nas colunas numéricas\n",
        "    colunas_numericas = df.select_dtypes(include=[np.number]).columns\n",
        "    df[colunas_numericas] = df[colunas_numericas].fillna(df[colunas_numericas].mean())\n",
        "\n",
        "    return df"
      ],
      "metadata": {
        "id": "WXDuFduFd2Us"
      },
      "execution_count": null,
      "outputs": []
    },
    {
      "cell_type": "code",
      "source": [
        "print(\"Colunas com NaN antes de tratar:\")\n",
        "print(df.isna().sum())"
      ],
      "metadata": {
        "colab": {
          "base_uri": "https://localhost:8080/"
        },
        "id": "eHM7r8KNd6Dz",
        "outputId": "0926fd1c-d297-4282-d1e4-7b7e8e200a13"
      },
      "execution_count": null,
      "outputs": [
        {
          "output_type": "stream",
          "name": "stdout",
          "text": [
            "Colunas com NaN antes de tratar:\n",
            "ano                             0\n",
            "rede                            0\n",
            "ensino                          0\n",
            "anos_escolares                  0\n",
            "taxa_aprovacao                  0\n",
            "indicador_rendimento            0\n",
            "nota_saeb_matematica            0\n",
            "nota_saeb_lingua_portuguesa     0\n",
            "nota_saeb_media_padronizada     0\n",
            "ideb                            0\n",
            "projecao                       28\n",
            "dtype: int64\n"
          ]
        }
      ]
    },
    {
      "cell_type": "code",
      "source": [
        "def treinar_modelo(df):\n",
        "    colunas_numericas = df.select_dtypes(include=[np.number]).drop(columns=['projecao'])  # <- exclui a coluna\n",
        "    modelo = NearestNeighbors(metric='cosine')\n",
        "    modelo.fit(colunas_numericas)\n",
        "    return modelo"
      ],
      "metadata": {
        "id": "fW63JNPNeDyn"
      },
      "execution_count": null,
      "outputs": []
    },
    {
      "cell_type": "code",
      "source": [
        "def main():\n",
        "    caminho = '/content/br_inep_ideb_brasil.csv'\n",
        "\n",
        "    print(\"🔹 Carregando dados...\")\n",
        "    df = carregar_dados_ideb(caminho)\n",
        "    print(f\"Dados carregados! Dimensão: {df.shape}\")\n",
        "\n",
        "    print(\"\\n🔹 Pré-processando...\")\n",
        "    try:\n",
        "        df_proc = preprocessar_dados(df)\n",
        "        print(\"Pré-processamento concluído.\")\n",
        "    except Exception as e:\n",
        "        print(f\"Erro no pré-processamento: {e}\")\n",
        "        return\n",
        "\n",
        "    print(\"\\n🔹 Treinando modelo...\")\n",
        "    try:\n",
        "        modelo = treinar_modelo(df_proc)\n",
        "        print(\"Modelo treinado com sucesso.\")\n",
        "    except Exception as e:\n",
        "        print(f\"Erro no treinamento: {e}\")\n",
        "        return\n",
        "\n",
        "    print(\"\\n🔹 Gerando recomendações...\\n\")\n",
        "    redes_para_testar = ['estadual', 'municipal', 'privada']\n",
        "\n",
        "    for rede in redes_para_testar:\n",
        "        print(f\"▶ Recomendação para rede: {rede}\")\n",
        "        resultado = recomendar_similares(modelo, df_proc, rede)\n",
        "        if not resultado.empty:\n",
        "            print(resultado.to_markdown(tablefmt='grid'))\n",
        "        else:\n",
        "            print(\"Nenhuma recomendação encontrada.\\n\")\n",
        "\n",
        "if __name__ == '__main__':\n",
        "    main()"
      ],
      "metadata": {
        "colab": {
          "base_uri": "https://localhost:8080/"
        },
        "id": "zRaq5_GEawou",
        "outputId": "4d9b4f60-6f7c-4e02-f015-17942bcabf75"
      },
      "execution_count": null,
      "outputs": [
        {
          "output_type": "stream",
          "name": "stdout",
          "text": [
            "🔹 Carregando dados...\n",
            "Dados carregados! Dimensão: (126, 11)\n",
            "\n",
            "🔹 Pré-processando...\n",
            "Pré-processamento concluído.\n",
            "\n",
            "🔹 Treinando modelo...\n",
            "Modelo treinado com sucesso.\n",
            "\n",
            "🔹 Gerando recomendações...\n",
            "\n",
            "▶ Recomendação para rede: estadual\n",
            "+----+-------+----------+----------+--------+\n",
            "|    |   ano | rede     | ensino   |   ideb |\n",
            "+====+=======+==========+==========+========+\n",
            "| 27 |  2007 | estadual | medio    |    3.2 |\n",
            "+----+-------+----------+----------+--------+\n",
            "| 25 |  2007 | publica  | medio    |    3.2 |\n",
            "+----+-------+----------+----------+--------+\n",
            "| 18 |  2005 | publica  | medio    |    3.1 |\n",
            "+----+-------+----------+----------+--------+\n",
            "| 28 |  2005 | estadual | medio    |    3   |\n",
            "+----+-------+----------+----------+--------+\n",
            "| 31 |  2013 | estadual | medio    |    3.4 |\n",
            "+----+-------+----------+----------+--------+\n",
            "▶ Recomendação para rede: municipal\n",
            "Nenhum dado encontrado para a rede: municipal\n",
            "Nenhuma recomendação encontrada.\n",
            "\n",
            "▶ Recomendação para rede: privada\n",
            "+----+-------+---------+----------+--------+\n",
            "|    |   ano | rede    | ensino   |   ideb |\n",
            "+====+=======+=========+==========+========+\n",
            "|  9 |  2021 | privada | medio    |    5.6 |\n",
            "+----+-------+---------+----------+--------+\n",
            "| 13 |  2017 | privada | medio    |    5.8 |\n",
            "+----+-------+---------+----------+--------+\n",
            "| 15 |  2013 | privada | medio    |    5.4 |\n",
            "+----+-------+---------+----------+--------+\n",
            "| 10 |  2009 | privada | medio    |    5.6 |\n",
            "+----+-------+---------+----------+--------+\n",
            "| 14 |  2007 | privada | medio    |    5.6 |\n",
            "+----+-------+---------+----------+--------+\n"
          ]
        }
      ]
    },
    {
      "cell_type": "code",
      "source": [
        "def recomendar_similares(modelo, df, rede_escolhida, top_n=5):\n",
        "    filtro = df[df['rede'] == rede_escolhida]\n",
        "\n",
        "    if filtro.empty:\n",
        "        print(f\"Nenhum dado encontrado para a rede: {rede_escolhida}\")\n",
        "        return pd.DataFrame()\n",
        "\n",
        "    # Seleciona apenas as colunas numéricas que foram usadas no treinamento\n",
        "    colunas_numericas = df.select_dtypes(include=[np.number]).drop(columns=['projecao'])  # ou mantenha se tiver imputado\n",
        "    dados_numericos = colunas_numericas.loc[filtro.index]\n",
        "\n",
        "    # Aplica o modelo\n",
        "    distancias, indices = modelo.kneighbors(dados_numericos, n_neighbors=top_n)\n",
        "\n",
        "    resultados = df.iloc[indices[0]]\n",
        "    return resultados[['ano', 'rede', 'ensino', 'ideb']]  # ou personalize aqui"
      ],
      "metadata": {
        "id": "A2ln4GNldSoK"
      },
      "execution_count": null,
      "outputs": []
    },
    {
      "cell_type": "code",
      "source": [],
      "metadata": {
        "id": "9IbrHi8beW56"
      },
      "execution_count": null,
      "outputs": []
    }
  ]
}